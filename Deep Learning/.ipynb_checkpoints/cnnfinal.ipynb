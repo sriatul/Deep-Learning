{
 "cells": [
  {
   "cell_type": "code",
   "execution_count": null,
   "id": "81d7d3c1-6e8e-44d0-be0b-dad4f08016c8",
   "metadata": {},
   "outputs": [],
   "source": [
    "import tensorflow as tf\n",
    "from tensorflow.keras import models,layers,datasets\n",
    "import numpy as np "
   ]
  },
  {
   "cell_type": "code",
   "execution_count": null,
   "id": "58361820-edfa-4062-a19c-f6b77b2e9e5b",
   "metadata": {},
   "outputs": [],
   "source": [
    "(X_train ,y_train ), (X_test , y_test) = datasets.cifar10.load_data()"
   ]
  },
  {
   "cell_type": "code",
   "execution_count": null,
   "id": "fe507f0a-890a-446c-9d7a-ce27975a5d6a",
   "metadata": {},
   "outputs": [],
   "source": [
    "X_train.shape"
   ]
  },
  {
   "cell_type": "code",
   "execution_count": null,
   "id": "4642b679-afd6-42ff-bceb-bcfe552d8958",
   "metadata": {},
   "outputs": [],
   "source": [
    "cnn=models.Sequential([\n",
    "    layers.Conv2D(filters=32 , kernel_size=(3,3) , activation='relu' , input_shape=(32,32,3)),\n",
    "    layers.MaxPooling2D((2,2)),\n",
    "    layers.Conv2D(filters=32 , kernel_size=(3,3) , activation='relu'),\n",
    "    layers.MaxPooling2D((2,2)),\n",
    "\n",
    "    layers.Flatten(),\n",
    "    layers.Dense(32,activation='relu'),\n",
    "    layers.Dense(10,activation='softmax')\n",
    "    \n",
    "])"
   ]
  },
  {
   "cell_type": "code",
   "execution_count": null,
   "id": "5a923db3-759a-436a-b084-2bf3c0706c67",
   "metadata": {},
   "outputs": [],
   "source": [
    "cnn.compile(optimizer='adam',\n",
    "            loss='sparse_categorical_crossentropy',\n",
    "            metrics=['accuracy']\n",
    "           )"
   ]
  },
  {
   "cell_type": "code",
   "execution_count": null,
   "id": "25392e7e-0848-40d0-9afb-dab17d3c91e8",
   "metadata": {},
   "outputs": [],
   "source": [
    "cnn.fit(X_train,y_train,epochs=5)"
   ]
  },
  {
   "cell_type": "code",
   "execution_count": null,
   "id": "100a6a21-d7d6-4178-9ea9-895ffd48f824",
   "metadata": {},
   "outputs": [],
   "source": [
    "cnn.evaluate(X_test,y_test)"
   ]
  },
  {
   "cell_type": "code",
   "execution_count": null,
   "id": "cf875a22-20f0-4d75-89a2-d441f27ec91d",
   "metadata": {},
   "outputs": [],
   "source": [
    "y_predict = cnn.predict(X_test)"
   ]
  },
  {
   "cell_type": "code",
   "execution_count": null,
   "id": "ec1953a3-2c59-46c9-89f4-6cc712031895",
   "metadata": {},
   "outputs": [],
   "source": [
    "y_predict[3]\n"
   ]
  },
  {
   "cell_type": "code",
   "execution_count": null,
   "id": "6784d1f4-25c0-459e-aa9c-927df875fc9e",
   "metadata": {},
   "outputs": [],
   "source": [
    "y_arg=[np.argmax(element) for element in y_predict]"
   ]
  },
  {
   "cell_type": "code",
   "execution_count": null,
   "id": "c4fabf5f-e6bb-4f6f-8047-e426553c8e5c",
   "metadata": {},
   "outputs": [],
   "source": [
    "np.argmax(y_predict[3])"
   ]
  },
  {
   "cell_type": "code",
   "execution_count": null,
   "id": "d1b83ae7-474d-4d24-99df-fe3e47f7ba49",
   "metadata": {},
   "outputs": [],
   "source": [
    "y_test[4]"
   ]
  },
  {
   "cell_type": "code",
   "execution_count": null,
   "id": "19cb6083-5811-4fe0-b223-c8c7d60b8ab8",
   "metadata": {},
   "outputs": [],
   "source": [
    "y_arg[4]"
   ]
  },
  {
   "cell_type": "code",
   "execution_count": 5,
   "id": "e25eddfa-3047-47ef-8fe7-8bdb3967eb9b",
   "metadata": {},
   "outputs": [
    {
     "name": "stdin",
     "output_type": "stream",
     "text": [
      "Enter a first number: 45\n",
      "Enter a second number: 48\n"
     ]
    },
    {
     "name": "stdout",
     "output_type": "stream",
     "text": [
      "48\n"
     ]
    }
   ],
   "source": [
    "a= int(input(\"Enter a first number:\"))\n",
    "b= int(input(\"Enter a second number:\"))\n",
    "\n",
    "if a>b:\n",
    "    print(a)\n",
    "else:\n",
    "    print(b)"
   ]
  },
  {
   "cell_type": "code",
   "execution_count": 9,
   "id": "69dfa523-77fb-443c-beb8-22af35f0af75",
   "metadata": {},
   "outputs": [
    {
     "data": {
      "image/png": "[encoded data removed]",
      "text/plain": [
       "<Figure size 640x480 with 1 Axes>"
      ]
     },
     "metadata": {},
     "output_type": "display_data"
    }
   ],
   "source": [
    "import matplotlib.pyplot as plt\n",
    "\n",
    "x= [2,3,5,6,7,7,8]\n",
    "y=[2,4,5,6,6,3,6]\n",
    "\n",
    "plt.xlabel('hello')\n",
    "plt.ylabel('hi')\n",
    "plt.bar(x,y )\n",
    "\n",
    "plt.show()"
   ]
  },
  {
   "cell_type": "code",
   "execution_count": 10,
   "id": "424021fc-8b80-4ef6-a35b-00797a564090",
   "metadata": {},
   "outputs": [
    {
     "name": "stdout",
     "output_type": "stream",
     "text": [
      "1\n",
      "2\n",
      "3\n",
      "4\n",
      "5\n",
      "6\n",
      "7\n",
      "8\n",
      "9\n",
      "10\n"
     ]
    }
   ],
   "source": [
    "for i in range(1,11):\n",
    "    print(i)"
   ]
  },
  {
   "cell_type": "code",
   "execution_count": 11,
   "id": "46b431c9-f415-4232-a5ca-560b407a0a4b",
   "metadata": {},
   "outputs": [
    {
     "name": "stdout",
     "output_type": "stream",
     "text": [
      "1\n",
      "3\n",
      "5\n",
      "7\n",
      "9\n"
     ]
    }
   ],
   "source": [
    "for i in range (1,11,2):\n",
    "    print(i)"
   ]
  },
  {
   "cell_type": "code",
   "execution_count": 12,
   "id": "31fa9a9e-8327-4ffa-a0f1-085b2a852fcb",
   "metadata": {},
   "outputs": [
    {
     "name": "stdout",
     "output_type": "stream",
     "text": [
      "2\n",
      "4\n",
      "6\n",
      "8\n",
      "10\n",
      "12\n",
      "14\n",
      "16\n",
      "18\n",
      "20\n"
     ]
    }
   ],
   "source": [
    "for i in range (1,11):\n",
    "    print(i*2)"
   ]
  },
  {
   "cell_type": "code",
   "execution_count": 16,
   "id": "824f9226-06e5-4df1-9b31-df7732ecfefb",
   "metadata": {},
   "outputs": [
    {
     "name": "stdout",
     "output_type": "stream",
     "text": [
      "3\n",
      "4\n",
      "5\n",
      "6\n",
      "7\n",
      "8\n",
      "9\n",
      "10\n",
      "11\n",
      "12\n"
     ]
    }
   ],
   "source": [
    "for i in range (1,11):\n",
    "    print(i++2)"
   ]
  },
  {
   "cell_type": "code",
   "execution_count": 17,
   "id": "0edc4d01-3de0-406b-a202-72d627f27dc1",
   "metadata": {},
   "outputs": [
    {
     "name": "stdout",
     "output_type": "stream",
     "text": [
      "-1\n",
      "0\n",
      "1\n",
      "2\n",
      "3\n",
      "4\n",
      "5\n",
      "6\n",
      "7\n",
      "8\n"
     ]
    }
   ],
   "source": [
    "for i in range (1,11):\n",
    "    print(i+-2)"
   ]
  },
  {
   "cell_type": "code",
   "execution_count": 19,
   "id": "612934e9-4b41-46fa-9afe-55fda7308c75",
   "metadata": {},
   "outputs": [
    {
     "name": "stdout",
     "output_type": "stream",
     "text": [
      "apple\n",
      "mango\n",
      "cheery\n"
     ]
    }
   ],
   "source": [
    "fruits = ['apple','mango','cheery']\n",
    "\n",
    "for i in fruits:\n",
    "    print(i)"
   ]
  },
  {
   "cell_type": "code",
   "execution_count": 21,
   "id": "de0b6e62-31f2-4920-9474-2532e63051b4",
   "metadata": {},
   "outputs": [
    {
     "data": {
      "text/plain": [
       "{'maan': 'hello', 'kumar': 'hi'}"
      ]
     },
     "execution_count": 21,
     "metadata": {},
     "output_type": "execute_result"
    }
   ],
   "source": [
    "dict = {\n",
    "    'maan':'hello',\n",
    "    'kumar':'hi'\n",
    "}\n",
    "dict"
   ]
  },
  {
   "cell_type": "code",
   "execution_count": 36,
   "id": "4370d2dd-5153-4d0d-afe7-5e6fa035ba8f",
   "metadata": {},
   "outputs": [
    {
     "name": "stdout",
     "output_type": "stream",
     "text": [
      "maan hello\n",
      "kumar hi\n"
     ]
    }
   ],
   "source": [
    "for key, value  in dict.items():\n",
    "    print(key ,value)"
   ]
  },
  {
   "cell_type": "code",
   "execution_count": 28,
   "id": "df41aca5-c617-4e86-96a8-67ece3d9299d",
   "metadata": {},
   "outputs": [
    {
     "name": "stdout",
     "output_type": "stream",
     "text": [
      "Key: maan, Value: hello\n",
      "Key: kumar, Value: hi\n"
     ]
    }
   ],
   "source": []
  },
  {
   "cell_type": "code",
   "execution_count": null,
   "id": "44a2d4f5-916c-46cd-bdc4-278645abc5e5",
   "metadata": {},
   "outputs": [],
   "source": []
  }
 ],
 "metadata": {
  "kernelspec": {
   "display_name": "Python 3 (ipykernel)",
   "language": "python",
   "name": "python3"
  },
  "language_info": {
   "codemirror_mode": {
    "name": "ipython",
    "version": 3
   },
   "file_extension": ".py",
   "mimetype": "text/x-python",
   "name": "python",
   "nbconvert_exporter": "python",
   "pygments_lexer": "ipython3",
   "version": "3.11.7"
  }
 },
 "nbformat": 4,
 "nbformat_minor": 5
}
